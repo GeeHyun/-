{
  "cells": [
    {
      "cell_type": "markdown",
      "source": [
        "<img align=\"right\" src=\"https://ds-cs-images.s3.ap-northeast-2.amazonaws.com/Codestates_Fulllogo_Color.png\" width=100>\n",
        "\n",
        "## *AIB / SECTION 2 / SPRINT 3 / NOTE 2*\n",
        "\n",
        "# 📝 Assignment\n",
        "---\n",
        "# Data Wrangling\n"
      ],
      "metadata": {
        "id": "9r6VsRmJcNIY"
      }
    },
    {
      "cell_type": "markdown",
      "source": [
        "### 1) 지속적으로 여러분의 포트폴리오 데이터를 랭글링 하세요\n",
        "- 여러분이 선택한 데이터들을 랭글링하여 모델을 만들기 위한 테이블 형태의 데이터로 만들어 보세요.\n",
        "- **(Urclass Quiz) 다음 함수의 result를 완성시키고 리턴값을 제출하세요.**"
      ],
      "metadata": {
        "id": "_4TnkWC0cNJb"
      }
    },
    {
      "cell_type": "code",
      "execution_count": 13,
      "source": [
        "### 이곳에서 Urlcass 퀴즈(assignment)를 진행해 주세요 ###\n",
        "import pandas as pd\n",
        "df = pd.read_csv(\"https://ds-lecture-data.s3.ap-northeast-2.amazonaws.com/assignments/purchase_data.csv\", sep=\",\",index_col=0)\n",
        "\n",
        "## 다음 result 함수 안에 male, female 변수를 계산하세요.(groupby, get_group을 사용하세요.)\n",
        "## sum_male: Age = 20, Gender = \"Male\" 그룹의 Price를 합하세요.\n",
        "## sum_female: Age = 20, Gender = \"Female\" 그룹의 Price를 합하세요.\n",
        "\n",
        "def result(df):\n",
        "\n",
        "    sum_male = df.groupby(['Age', 'Gender']).get_group((20, 'Male'))['Price'].sum()\n",
        "    sum_female = df.groupby(['Age', 'Gender']).get_group((20, 'Female'))['Price'].sum()\n",
        "\n",
        "    print(\"sum_male: {}, sum_female: {}\".format(sum_male, sum_female))\n",
        "    return round(sum_male + sum_female)\n",
        "\n",
        "result(df)"
      ],
      "outputs": [
        {
          "output_type": "stream",
          "name": "stdout",
          "text": [
            "sum_male: 260.2, sum_female: 43.730000000000004\n"
          ]
        },
        {
          "output_type": "execute_result",
          "data": {
            "text/plain": [
              "304"
            ]
          },
          "metadata": {},
          "execution_count": 13
        }
      ],
      "metadata": {
        "id": "mRyWr74QcNJ1",
        "outputId": "477127f5-62a6-4e6a-a331-5ed7912b3fcc",
        "colab": {
          "base_uri": "https://localhost:8080/"
        }
      }
    },
    {
      "cell_type": "code",
      "source": [
        "df.groupby(['Age', 'Gender']).get_group((20, 'Male'))['Price'].sum()"
      ],
      "metadata": {
        "id": "-ng-cW7ecr9z",
        "outputId": "10e8295f-d9c8-4617-bc83-29fe7a53ad17",
        "colab": {
          "base_uri": "https://localhost:8080/"
        }
      },
      "execution_count": 12,
      "outputs": [
        {
          "output_type": "execute_result",
          "data": {
            "text/plain": [
              "260.2"
            ]
          },
          "metadata": {},
          "execution_count": 12
        }
      ]
    },
    {
      "cell_type": "code",
      "execution_count": null,
      "source": [
        "### 이곳에서 본인 데이터로 과제를 진행해 주세요 ### "
      ],
      "outputs": [],
      "metadata": {
        "id": "Yq3iQN2acNKN"
      }
    },
    {
      "cell_type": "markdown",
      "source": [
        "### 2) 새로 특징들을 만들어 보세요\n",
        "- **(Urclass Quiz) purchase_data를 랭글링하여 다음 조건을 계산하고 결과가 올바른 항목을 고르세요.**\n",
        "    1. 나이 1-20세 그룹(20세 포함)의 평균 Price는 3.101818이다.\n",
        "    2. 나이 21-50세 그룹의 평균 Price는 3.021559이다.\n",
        "    3. 가장 많이 구입한 아이템의 ID는 178 이다.\n",
        "    4. 두번째로 매출을 많이 낸 아이템 ID는 145이다."
      ],
      "metadata": {
        "id": "gg2uKbx7cNKh"
      }
    },
    {
      "cell_type": "code",
      "execution_count": 42,
      "source": [
        "### 이곳에서 Urlcass 퀴즈(assignment)과제를 진행해 주세요 ###\n",
        "# 그룹별 Price 평균\n",
        "df['Age_bin'] = pd.cut(df['Age'], [0, 20, 50])\n",
        "print('1: ', df.groupby(['Age_bin'])['Price'].mean()[0])\n",
        "print('2: ', df.groupby(['Age_bin'])['Price'].mean()[1])\n",
        "\n",
        "# 판매수 상위 Item ID\n",
        "print('3: ', df['Item ID'].mode()[0])\n",
        "\n",
        "# 매출 상위 Item IDs\n",
        "print('4: ', df.groupby(['Item ID'])['Price'].sum().sort_values(ascending=False).index[1])\n"
      ],
      "outputs": [
        {
          "output_type": "stream",
          "name": "stdout",
          "text": [
            "1:  3.101818181818182\n",
            "2:  3.0215587044534415\n",
            "3:  178\n",
            "4:  82\n"
          ]
        }
      ],
      "metadata": {
        "id": "aMTPTnM2cNKq",
        "outputId": "006e820b-6452-4c76-ff04-74b5988b7a8c",
        "colab": {
          "base_uri": "https://localhost:8080/"
        }
      }
    },
    {
      "cell_type": "code",
      "execution_count": null,
      "source": [
        "### 이곳에서 본인 데이터로 과제를 진행해 주세요 ### "
      ],
      "outputs": [],
      "metadata": {
        "id": "Y_nq8tFncNKw"
      }
    },
    {
      "cell_type": "markdown",
      "source": [
        "## 🔥 도전과제(Github - Discussion)"
      ],
      "metadata": {
        "id": "P8cpPSO4cNK1"
      }
    },
    {
      "cell_type": "markdown",
      "source": [
        "### 3) 데이터 랭글링 방법들 중 가장 중요하다고 생각하는 방법이나 어려운 점, 혹은 수업에서 배우지 않은 좋은 방법이나 사례가 있으면 서로 공유해 보세요. \n"
      ],
      "metadata": {
        "id": "8qnTgf-lcNK5"
      }
    },
    {
      "cell_type": "code",
      "execution_count": null,
      "source": [
        "### 이곳에서 과제를 진행해 주세요 ### "
      ],
      "outputs": [],
      "metadata": {
        "id": "zyOAYwIncNK-"
      }
    }
  ],
  "metadata": {
    "jupytext": {
      "cell_metadata_filter": "-all",
      "main_language": "python",
      "notebook_metadata_filter": "-all"
    },
    "kernelspec": {
      "display_name": "Python 3",
      "language": "python",
      "name": "python3"
    },
    "language_info": {
      "codemirror_mode": {
        "name": "ipython",
        "version": 3
      },
      "file_extension": ".py",
      "mimetype": "text/x-python",
      "name": "python",
      "nbconvert_exporter": "python",
      "pygments_lexer": "ipython3",
      "version": "3.7.7"
    },
    "colab": {
      "name": "n232a-data-wrangling.ipynb",
      "provenance": []
    }
  },
  "nbformat": 4,
  "nbformat_minor": 0
}