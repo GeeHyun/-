{
  "cells": [
    {
      "cell_type": "markdown",
      "source": [
        "<img align=\"right\" src=\"https://ds-cs-images.s3.ap-northeast-2.amazonaws.com/Codestates_Fulllogo_Color.png\" width=100>\n",
        "\n",
        "## *AIB / SECTION 2 / SPRINT 3 / NOTE 1*\n",
        "\n",
        "# 📝 Assignment\n",
        "---\n",
        "# Choose your ML problems\n",
        "\n",
        "이번 스프린트에서는 포트폴리오 프로젝트를 위해 수강생 각자가 정한 데이터셋을 사용하여 과제를 수행합니다. 프로젝트를 위한 데이터를 최종 선택하기 전에 여러 가능한 데이터세트를 살펴보고 간단한 모델까지 학습해 보는 것을 추천드립니다."
      ],
      "metadata": {
        "id": "nCc3XZEyG3XV"
      }
    },
    {
      "cell_type": "markdown",
      "source": [
        "### 1) 타겟으로 사용할 특성을 선택합니다.\n",
        "**(Urclass Quiz)** 여러분들이 프로젝트에 사용할 데이터셋과 타겟특성에 대해 아래의 내용을 포함하여 간략하게 설명해주세요. \n",
        "* `df.dtypes`을 사용해서 타겟특성의 데이터 타입 확인\n",
        "* `df.describe()`를 사용해서 타겟특성의 대표값 확인(실수-평균, 범주형-최빈값)"
      ],
      "metadata": {
        "id": "NNc8mCb-pHYk"
      }
    },
    {
      "cell_type": "code",
      "execution_count": 1,
      "source": [
        "### 이곳에서 과제를 진행해 주세요 ### \n",
        "\n",
        "from google.colab import drive\n",
        "drive.mount('/content/drive')"
      ],
      "outputs": [
        {
          "output_type": "stream",
          "name": "stdout",
          "text": [
            "Mounted at /content/drive\n"
          ]
        }
      ],
      "metadata": {
        "id": "OlzwiTa1pHYl",
        "outputId": "3b81a56e-6dbc-44cb-ea13-5a362504dbc9",
        "colab": {
          "base_uri": "https://localhost:8080/"
        }
      }
    },
    {
      "cell_type": "code",
      "source": [
        "import pandas as pd\n",
        "from sklearn.model_selection import train_test_split\n",
        "\n",
        "directory = '/content/drive/MyDrive/Colab Notebooks/project/project2/'\n",
        "\n",
        "test = pd.read_csv(directory + 'test.csv')\n",
        "train = pd.read_csv(directory + 'train.csv')\n",
        "sample_submission = pd.read_csv(directory + 'sample_submission.csv')\n",
        "\n",
        "target = 'credit'"
      ],
      "metadata": {
        "id": "PuqSlQQ1tAr_"
      },
      "execution_count": 8,
      "outputs": []
    },
    {
      "cell_type": "code",
      "source": [
        "train.dtypes"
      ],
      "metadata": {
        "id": "zvKtmFlTtrK3",
        "outputId": "9c4b27d7-0355-4c4c-c8a4-b811e3c25661",
        "colab": {
          "base_uri": "https://localhost:8080/"
        }
      },
      "execution_count": 9,
      "outputs": [
        {
          "output_type": "execute_result",
          "data": {
            "text/plain": [
              "index              int64\n",
              "gender            object\n",
              "car               object\n",
              "reality           object\n",
              "child_num          int64\n",
              "income_total     float64\n",
              "income_type       object\n",
              "edu_type          object\n",
              "family_type       object\n",
              "house_type        object\n",
              "DAYS_BIRTH         int64\n",
              "DAYS_EMPLOYED      int64\n",
              "FLAG_MOBIL         int64\n",
              "work_phone         int64\n",
              "phone              int64\n",
              "email              int64\n",
              "occyp_type        object\n",
              "family_size      float64\n",
              "begin_month      float64\n",
              "credit           float64\n",
              "dtype: object"
            ]
          },
          "metadata": {},
          "execution_count": 9
        }
      ]
    },
    {
      "cell_type": "code",
      "source": [
        "train.describe()"
      ],
      "metadata": {
        "id": "EbXGdXU7tz0d",
        "outputId": "25f6018f-a987-4a49-921a-664917c76934",
        "colab": {
          "base_uri": "https://localhost:8080/",
          "height": 300
        }
      },
      "execution_count": 10,
      "outputs": [
        {
          "output_type": "execute_result",
          "data": {
            "text/plain": [
              "              index     child_num  income_total    DAYS_BIRTH  DAYS_EMPLOYED  \\\n",
              "count  26457.000000  26457.000000  2.645700e+04  26457.000000   26457.000000   \n",
              "mean   13228.000000      0.428658  1.873065e+05 -15958.053899   59068.750728   \n",
              "std     7637.622372      0.747326  1.018784e+05   4201.589022  137475.427503   \n",
              "min        0.000000      0.000000  2.700000e+04 -25152.000000  -15713.000000   \n",
              "25%     6614.000000      0.000000  1.215000e+05 -19431.000000   -3153.000000   \n",
              "50%    13228.000000      0.000000  1.575000e+05 -15547.000000   -1539.000000   \n",
              "75%    19842.000000      1.000000  2.250000e+05 -12446.000000    -407.000000   \n",
              "max    26456.000000     19.000000  1.575000e+06  -7705.000000  365243.000000   \n",
              "\n",
              "       FLAG_MOBIL    work_phone         phone         email   family_size  \\\n",
              "count     26457.0  26457.000000  26457.000000  26457.000000  26457.000000   \n",
              "mean          1.0      0.224742      0.294251      0.091280      2.196848   \n",
              "std           0.0      0.417420      0.455714      0.288013      0.916717   \n",
              "min           1.0      0.000000      0.000000      0.000000      1.000000   \n",
              "25%           1.0      0.000000      0.000000      0.000000      2.000000   \n",
              "50%           1.0      0.000000      0.000000      0.000000      2.000000   \n",
              "75%           1.0      0.000000      1.000000      0.000000      3.000000   \n",
              "max           1.0      1.000000      1.000000      1.000000     20.000000   \n",
              "\n",
              "        begin_month        credit  \n",
              "count  26457.000000  26457.000000  \n",
              "mean     -26.123294      1.519560  \n",
              "std       16.559550      0.702283  \n",
              "min      -60.000000      0.000000  \n",
              "25%      -39.000000      1.000000  \n",
              "50%      -24.000000      2.000000  \n",
              "75%      -12.000000      2.000000  \n",
              "max        0.000000      2.000000  "
            ],
            "text/html": [
              "\n",
              "  <div id=\"df-e71f8c85-24a0-44b7-855e-a4ef82d96b21\">\n",
              "    <div class=\"colab-df-container\">\n",
              "      <div>\n",
              "<style scoped>\n",
              "    .dataframe tbody tr th:only-of-type {\n",
              "        vertical-align: middle;\n",
              "    }\n",
              "\n",
              "    .dataframe tbody tr th {\n",
              "        vertical-align: top;\n",
              "    }\n",
              "\n",
              "    .dataframe thead th {\n",
              "        text-align: right;\n",
              "    }\n",
              "</style>\n",
              "<table border=\"1\" class=\"dataframe\">\n",
              "  <thead>\n",
              "    <tr style=\"text-align: right;\">\n",
              "      <th></th>\n",
              "      <th>index</th>\n",
              "      <th>child_num</th>\n",
              "      <th>income_total</th>\n",
              "      <th>DAYS_BIRTH</th>\n",
              "      <th>DAYS_EMPLOYED</th>\n",
              "      <th>FLAG_MOBIL</th>\n",
              "      <th>work_phone</th>\n",
              "      <th>phone</th>\n",
              "      <th>email</th>\n",
              "      <th>family_size</th>\n",
              "      <th>begin_month</th>\n",
              "      <th>credit</th>\n",
              "    </tr>\n",
              "  </thead>\n",
              "  <tbody>\n",
              "    <tr>\n",
              "      <th>count</th>\n",
              "      <td>26457.000000</td>\n",
              "      <td>26457.000000</td>\n",
              "      <td>2.645700e+04</td>\n",
              "      <td>26457.000000</td>\n",
              "      <td>26457.000000</td>\n",
              "      <td>26457.0</td>\n",
              "      <td>26457.000000</td>\n",
              "      <td>26457.000000</td>\n",
              "      <td>26457.000000</td>\n",
              "      <td>26457.000000</td>\n",
              "      <td>26457.000000</td>\n",
              "      <td>26457.000000</td>\n",
              "    </tr>\n",
              "    <tr>\n",
              "      <th>mean</th>\n",
              "      <td>13228.000000</td>\n",
              "      <td>0.428658</td>\n",
              "      <td>1.873065e+05</td>\n",
              "      <td>-15958.053899</td>\n",
              "      <td>59068.750728</td>\n",
              "      <td>1.0</td>\n",
              "      <td>0.224742</td>\n",
              "      <td>0.294251</td>\n",
              "      <td>0.091280</td>\n",
              "      <td>2.196848</td>\n",
              "      <td>-26.123294</td>\n",
              "      <td>1.519560</td>\n",
              "    </tr>\n",
              "    <tr>\n",
              "      <th>std</th>\n",
              "      <td>7637.622372</td>\n",
              "      <td>0.747326</td>\n",
              "      <td>1.018784e+05</td>\n",
              "      <td>4201.589022</td>\n",
              "      <td>137475.427503</td>\n",
              "      <td>0.0</td>\n",
              "      <td>0.417420</td>\n",
              "      <td>0.455714</td>\n",
              "      <td>0.288013</td>\n",
              "      <td>0.916717</td>\n",
              "      <td>16.559550</td>\n",
              "      <td>0.702283</td>\n",
              "    </tr>\n",
              "    <tr>\n",
              "      <th>min</th>\n",
              "      <td>0.000000</td>\n",
              "      <td>0.000000</td>\n",
              "      <td>2.700000e+04</td>\n",
              "      <td>-25152.000000</td>\n",
              "      <td>-15713.000000</td>\n",
              "      <td>1.0</td>\n",
              "      <td>0.000000</td>\n",
              "      <td>0.000000</td>\n",
              "      <td>0.000000</td>\n",
              "      <td>1.000000</td>\n",
              "      <td>-60.000000</td>\n",
              "      <td>0.000000</td>\n",
              "    </tr>\n",
              "    <tr>\n",
              "      <th>25%</th>\n",
              "      <td>6614.000000</td>\n",
              "      <td>0.000000</td>\n",
              "      <td>1.215000e+05</td>\n",
              "      <td>-19431.000000</td>\n",
              "      <td>-3153.000000</td>\n",
              "      <td>1.0</td>\n",
              "      <td>0.000000</td>\n",
              "      <td>0.000000</td>\n",
              "      <td>0.000000</td>\n",
              "      <td>2.000000</td>\n",
              "      <td>-39.000000</td>\n",
              "      <td>1.000000</td>\n",
              "    </tr>\n",
              "    <tr>\n",
              "      <th>50%</th>\n",
              "      <td>13228.000000</td>\n",
              "      <td>0.000000</td>\n",
              "      <td>1.575000e+05</td>\n",
              "      <td>-15547.000000</td>\n",
              "      <td>-1539.000000</td>\n",
              "      <td>1.0</td>\n",
              "      <td>0.000000</td>\n",
              "      <td>0.000000</td>\n",
              "      <td>0.000000</td>\n",
              "      <td>2.000000</td>\n",
              "      <td>-24.000000</td>\n",
              "      <td>2.000000</td>\n",
              "    </tr>\n",
              "    <tr>\n",
              "      <th>75%</th>\n",
              "      <td>19842.000000</td>\n",
              "      <td>1.000000</td>\n",
              "      <td>2.250000e+05</td>\n",
              "      <td>-12446.000000</td>\n",
              "      <td>-407.000000</td>\n",
              "      <td>1.0</td>\n",
              "      <td>0.000000</td>\n",
              "      <td>1.000000</td>\n",
              "      <td>0.000000</td>\n",
              "      <td>3.000000</td>\n",
              "      <td>-12.000000</td>\n",
              "      <td>2.000000</td>\n",
              "    </tr>\n",
              "    <tr>\n",
              "      <th>max</th>\n",
              "      <td>26456.000000</td>\n",
              "      <td>19.000000</td>\n",
              "      <td>1.575000e+06</td>\n",
              "      <td>-7705.000000</td>\n",
              "      <td>365243.000000</td>\n",
              "      <td>1.0</td>\n",
              "      <td>1.000000</td>\n",
              "      <td>1.000000</td>\n",
              "      <td>1.000000</td>\n",
              "      <td>20.000000</td>\n",
              "      <td>0.000000</td>\n",
              "      <td>2.000000</td>\n",
              "    </tr>\n",
              "  </tbody>\n",
              "</table>\n",
              "</div>\n",
              "      <button class=\"colab-df-convert\" onclick=\"convertToInteractive('df-e71f8c85-24a0-44b7-855e-a4ef82d96b21')\"\n",
              "              title=\"Convert this dataframe to an interactive table.\"\n",
              "              style=\"display:none;\">\n",
              "        \n",
              "  <svg xmlns=\"http://www.w3.org/2000/svg\" height=\"24px\"viewBox=\"0 0 24 24\"\n",
              "       width=\"24px\">\n",
              "    <path d=\"M0 0h24v24H0V0z\" fill=\"none\"/>\n",
              "    <path d=\"M18.56 5.44l.94 2.06.94-2.06 2.06-.94-2.06-.94-.94-2.06-.94 2.06-2.06.94zm-11 1L8.5 8.5l.94-2.06 2.06-.94-2.06-.94L8.5 2.5l-.94 2.06-2.06.94zm10 10l.94 2.06.94-2.06 2.06-.94-2.06-.94-.94-2.06-.94 2.06-2.06.94z\"/><path d=\"M17.41 7.96l-1.37-1.37c-.4-.4-.92-.59-1.43-.59-.52 0-1.04.2-1.43.59L10.3 9.45l-7.72 7.72c-.78.78-.78 2.05 0 2.83L4 21.41c.39.39.9.59 1.41.59.51 0 1.02-.2 1.41-.59l7.78-7.78 2.81-2.81c.8-.78.8-2.07 0-2.86zM5.41 20L4 18.59l7.72-7.72 1.47 1.35L5.41 20z\"/>\n",
              "  </svg>\n",
              "      </button>\n",
              "      \n",
              "  <style>\n",
              "    .colab-df-container {\n",
              "      display:flex;\n",
              "      flex-wrap:wrap;\n",
              "      gap: 12px;\n",
              "    }\n",
              "\n",
              "    .colab-df-convert {\n",
              "      background-color: #E8F0FE;\n",
              "      border: none;\n",
              "      border-radius: 50%;\n",
              "      cursor: pointer;\n",
              "      display: none;\n",
              "      fill: #1967D2;\n",
              "      height: 32px;\n",
              "      padding: 0 0 0 0;\n",
              "      width: 32px;\n",
              "    }\n",
              "\n",
              "    .colab-df-convert:hover {\n",
              "      background-color: #E2EBFA;\n",
              "      box-shadow: 0px 1px 2px rgba(60, 64, 67, 0.3), 0px 1px 3px 1px rgba(60, 64, 67, 0.15);\n",
              "      fill: #174EA6;\n",
              "    }\n",
              "\n",
              "    [theme=dark] .colab-df-convert {\n",
              "      background-color: #3B4455;\n",
              "      fill: #D2E3FC;\n",
              "    }\n",
              "\n",
              "    [theme=dark] .colab-df-convert:hover {\n",
              "      background-color: #434B5C;\n",
              "      box-shadow: 0px 1px 3px 1px rgba(0, 0, 0, 0.15);\n",
              "      filter: drop-shadow(0px 1px 2px rgba(0, 0, 0, 0.3));\n",
              "      fill: #FFFFFF;\n",
              "    }\n",
              "  </style>\n",
              "\n",
              "      <script>\n",
              "        const buttonEl =\n",
              "          document.querySelector('#df-e71f8c85-24a0-44b7-855e-a4ef82d96b21 button.colab-df-convert');\n",
              "        buttonEl.style.display =\n",
              "          google.colab.kernel.accessAllowed ? 'block' : 'none';\n",
              "\n",
              "        async function convertToInteractive(key) {\n",
              "          const element = document.querySelector('#df-e71f8c85-24a0-44b7-855e-a4ef82d96b21');\n",
              "          const dataTable =\n",
              "            await google.colab.kernel.invokeFunction('convertToInteractive',\n",
              "                                                     [key], {});\n",
              "          if (!dataTable) return;\n",
              "\n",
              "          const docLinkHtml = 'Like what you see? Visit the ' +\n",
              "            '<a target=\"_blank\" href=https://colab.research.google.com/notebooks/data_table.ipynb>data table notebook</a>'\n",
              "            + ' to learn more about interactive tables.';\n",
              "          element.innerHTML = '';\n",
              "          dataTable['output_type'] = 'display_data';\n",
              "          await google.colab.output.renderOutput(dataTable, element);\n",
              "          const docLink = document.createElement('div');\n",
              "          docLink.innerHTML = docLinkHtml;\n",
              "          element.appendChild(docLink);\n",
              "        }\n",
              "      </script>\n",
              "    </div>\n",
              "  </div>\n",
              "  "
            ]
          },
          "metadata": {},
          "execution_count": 10
        }
      ]
    },
    {
      "cell_type": "markdown",
      "source": [
        "### 2) 풀고자 하는 문제가 분류/회귀 문제인지 정합니다.\n",
        "**(Urclass Quiz)** 다이아몬드를 보관하기 위해 금고를 만들었습니다. 금고가 너무 작아서 가격이 상위 25%인 것만 보관하려고 합니다. 이를 위해 'price' 특성을 이용해 금고에 보관할 다이아몬드와 그렇지 않은 것으로 분류하는 이진분류 컬럼을 만들어 타겟 특성으로 사용할 것입니다. 타겟 특성의 최빈값의 빈도수를 적어주세요.\n",
        "- 'top25'라는 새로운 타겟변수(컬럼)를 만들어주세요.\n",
        "- 상위 25% 이상 True, 상위 25% 미만 False\n",
        "\n",
        "   "
      ],
      "metadata": {
        "id": "BcgcG5UfpHYl"
      }
    },
    {
      "cell_type": "code",
      "execution_count": null,
      "source": [
        "### 이곳에서 과제를 진행해 주세요 ### \n",
        "import seaborn as sns\n",
        "diamonds = sns.load_dataset('diamonds')"
      ],
      "outputs": [],
      "metadata": {
        "id": "53QsekKhpHYl"
      }
    },
    {
      "cell_type": "code",
      "source": [
        "diamonds['top25'] = diamonds['price'] > diamonds['price'].quantile(.75)\n",
        "diamonds['top25'].value_counts()"
      ],
      "metadata": {
        "id": "MRoA1eD4t1bT",
        "outputId": "ea16b8af-2064-450a-8c10-671c2dace0f9",
        "colab": {
          "base_uri": "https://localhost:8080/"
        }
      },
      "execution_count": null,
      "outputs": [
        {
          "output_type": "execute_result",
          "data": {
            "text/plain": [
              "False    40455\n",
              "True     13485\n",
              "Name: top25, dtype: int64"
            ]
          },
          "metadata": {},
          "execution_count": 8
        }
      ]
    },
    {
      "cell_type": "markdown",
      "source": [
        "### 3) 타겟의 분포를 분석하고 사용할 평가지표를 선택합니다. 평가지표를 선택한 이유를 설명하세요.\n",
        "- 분류: 클래스가 몇 개인지? 클래스 비율이 어떤지(balance or imbalance)\n",
        "- 회귀: 타겟 분포가 right-skewed 인지? log-transform을 사용할 것인지?\n",
        "- 분류: 다수 클래스(majority class) 비율이 50%~70% 인 경우 정확도(accuracy)만 사용해도 무방합니다. 하지만 범위를 넘어설 경우 정확도만을 사용해서는 모델을 잘못 이해할 수 있습니다. 어떤 평가지표를 사용해야 할까요?\n",
        "- 회귀: MAE, RMSE, R^2 등을 사용할 수 있습니다.\n",
        "\n",
        "---\n",
        "\n",
        "\n",
        "**(Urclass Quiz)** 여러분들이 프로젝트에 사용할 데이터의 기준모델과 사용할 평가지표를 제출해주세요."
      ],
      "metadata": {
        "id": "wfkMQUkSpHYm"
      }
    },
    {
      "cell_type": "code",
      "execution_count": 14,
      "source": [
        "### 이곳에서 과제를 진행해 주세요 ### \n",
        "\n",
        "import numpy as np\n",
        "\n",
        "# 분류 / 클래스 3개 / 트래인 기준 비율: {2: 64.1%, 1:23.7%, 0: 12.1%}\n",
        "# Logloss: 높은 정확률 보다, 높은 확률로 틀리는 경우를 최소화\n",
        "def logloss(true_label, predicted_prob):\n",
        "    if true_label == 1:\n",
        "        return -np.log(predicted_prob)\n",
        "    else:\n",
        "        return -np.log(1 - predicted_prob)"
      ],
      "outputs": [],
      "metadata": {
        "id": "u9hgVuVmpHYm"
      }
    },
    {
      "cell_type": "markdown",
      "source": [
        "## 🔥 도전과제(Github - Discussion)"
      ],
      "metadata": {
        "id": "LDng-TSrpHYn"
      }
    },
    {
      "cell_type": "markdown",
      "source": [
        "### 4) 실무에서 데이터분석가/데이터엔지니어/데이터사이언티스트에게 중요한 역량이 무엇이라고 생각하며, 어떤 어려움을 겪게 될 것 같은지와 어떤 능력이 필요할 지 논의해 보세요. 또한, 섹션2 프로젝트에 앞서 본인이 얻고자 하는 점이나 다짐 등을 서로 공유해 보세요. \n"
      ],
      "metadata": {
        "id": "XpiVRtsDpHYn"
      }
    },
    {
      "cell_type": "code",
      "execution_count": null,
      "source": [
        "### 이곳에서 과제를 진행해 주세요 ### "
      ],
      "outputs": [],
      "metadata": {
        "id": "vlxgv4m-pHYn"
      }
    }
  ],
  "metadata": {
    "kernelspec": {
      "display_name": "Python 3",
      "language": "python",
      "name": "python3"
    },
    "language_info": {
      "codemirror_mode": {
        "name": "ipython",
        "version": 3
      },
      "file_extension": ".py",
      "mimetype": "text/x-python",
      "name": "python",
      "nbconvert_exporter": "python",
      "pygments_lexer": "ipython3",
      "version": "3.7.7"
    },
    "colab": {
      "name": "n231a-choose-your-ml-problems.ipynb",
      "provenance": []
    }
  },
  "nbformat": 4,
  "nbformat_minor": 0
}